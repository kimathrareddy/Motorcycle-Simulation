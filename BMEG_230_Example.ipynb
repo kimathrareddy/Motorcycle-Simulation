{
  "cells": [
    {
      "cell_type": "markdown",
      "metadata": {
        "id": "view-in-github",
        "colab_type": "text"
      },
      "source": [
        "<a href=\"https://colab.research.google.com/github/kimathrareddy/Motorcycle-Simulation/blob/main/BMEG_230_Example.ipynb\" target=\"_parent\"><img src=\"https://colab.research.google.com/assets/colab-badge.svg\" alt=\"Open In Colab\"/></a>"
      ]
    },
    {
      "cell_type": "markdown",
      "source": [
        "\n",
        "#Hello\n",
        "\n",
        "Welcom to Google Colab a cloud based computing platform running Python.\n",
        "\n",
        "Before you do anything at all please make sure you have :\n",
        "1. Have google account. If you dont make one just to access their cloud software.\n",
        "\n",
        "2. The first time you ever open this I want you to save a local copy of it on your own google drive. TO do this go to FILE->SAVE A COPY IN DRIVE. This will be your own local version of this cloud based python code. You will from then on forward only ever use that version of the code. You can find it in your google drive, and save it somewhere you know where it is.\n",
        "\n",
        "3. Once you have your own name it to something that you like. For example \"CodeToRunOP\"\n",
        "\n",
        "4. Ths script will take about ~30 min to run. Therefore you need to make sure that once it starts running your computer does not fall asleep. I use an app called amphetamine on my MacBook that sets the computer to not fall asleep. You can also change the propoerties in your settings. Doesnt matter the approach.\n",
        "\n",
        "5.  BEFORE RUNNING SCRIPTS PLEASE GO TO \"RUNTIME-> FACTORY RESET RUNTIME\" AND \"EDIT->CLEAR ALL OUPPUTS\"\n",
        "\n",
        "6. CRITICAL Next Make sure when you go to \"RunTime->Change runtime type \" this is set to GPU. It will not work if you do not set this to GPU (do this everytime you comde back to the code after leaving it for a day).\n",
        "\n",
        "DO NOT RUN THIS CODE BUT MAKE A COPY\n"
      ],
      "metadata": {
        "id": "nDaYxBbFyysU"
      }
    },
    {
      "cell_type": "markdown",
      "source": [
        "**HOW DO I RUN THIS CODE ??**\n",
        "After you have read all of the steps above (and completed them). You are ready to work. First drag in your video that you want to anlayze to the left hand side. Click the little folder if you cant see anywhere to drag into. Next scroll down to the little arrow below  \"Install OpenPose\" here you can run the first set of the code (~this will run for about 20-30min).\n",
        "\n",
        "Once it is finsihed you can run the code on your video. Scroll down to try on sample video. Run this and if it works you will get an output. Sae this output its your result. You can run this box for every video you have just change the name where it is indicated. Dont forget to download all files after finishing as they will disaapear."
      ],
      "metadata": {
        "id": "RpzhPOCk6JZC"
      }
    },
    {
      "cell_type": "markdown",
      "metadata": {
        "id": "X38L6tanrnrB"
      },
      "source": [
        "# Pose Detection with OpenPose\n",
        "\n",
        "This notebook uses an open source project [CMU-Perceptual-Computing-Lab/openpose](https://github.com/CMU-Perceptual-Computing-Lab/openpose.git) to detect/track multi person poses on a given video.\n",
        "\n",
        "Please read the [OpenPose license](https://github.com/CMU-Perceptual-Computing-Lab/openpose/blob/master/LICENSE) before running this script.\n"
      ]
    },
    {
      "cell_type": "markdown",
      "metadata": {
        "id": "bbYVjlJikDEW"
      },
      "source": [
        "##Install OpenPose\n",
        "Just run the code below but do not change anything :)"
      ]
    },
    {
      "cell_type": "markdown",
      "metadata": {
        "id": "FRoZL6lKhez1"
      },
      "source": []
    },
    {
      "cell_type": "code",
      "execution_count": null,
      "metadata": {
        "id": "FOdkDhb6ga6N"
      },
      "outputs": [],
      "source": [
        "#@title\n",
        "import os\n",
        "OPENPOSE_PATH=\"./openpose/\"\n",
        "HOME_PATH='./'\n",
        "\n",
        "!echo $HOME_PATH\n",
        "\n",
        "!pip install ffmpeg-python\n",
        "from os.path import exists, join, basename, splitext\n",
        "\n",
        "def show_local_mp4_video(file_name, width=640, height=480):\n",
        "  import io\n",
        "  import base64\n",
        "  from IPython.display import HTML\n",
        "  video_encoded = base64.b64encode(io.open(file_name, 'rb').read())\n",
        "  return HTML(data='''<video width=\"{0}\" height=\"{1}\" alt=\"test\" controls>\n",
        "                        <source src=\"data:video/mp4;base64,{2}\" type=\"video/mp4\" />\n",
        "                      </video>'''.format(width, height, video_encoded.decode('ascii')))\n",
        "\n",
        "\n",
        "# see: https://github.com/CMU-Perceptual-Computing-Lab/openpose/issues/949\n",
        "# install new CMake becaue of CUDA10\n",
        "!wget -q https://cmake.org/files/v3.17/cmake-3.17.2-Linux-x86_64.tar.gz\n",
        "!tar xfz cmake-3.17.2-Linux-x86_64.tar.gz --strip-components=1 -C /usr/local\n",
        "\n",
        "# install system dependencies\n",
        "!apt-get -qq install -y libatlas-base-dev libprotobuf-dev libleveldb-dev libsnappy-dev libhdf5-serial-dev protobuf-compiler libgflags-dev libgoogle-glog-dev liblmdb-dev opencl-headers ocl-icd-opencl-dev libviennacl-dev\n",
        "\n",
        "git_repo_url = 'https://github.com/CMU-Perceptual-Computing-Lab/openpose.git'\n",
        "project_name = splitext(basename(git_repo_url))[0]\n",
        "!rm -rf openpose\n",
        "# clone openpose\n",
        "!git clone -q --depth 1 $git_repo_url\n",
        "# --recursive necessary in the line below, as otherwise you can (sometimes) get \"lpthreads\" errors in cmake (\"undefined reference to `pthread_create'\" etc). See, for example, https://github.com/facebookarchive/caffe2/issues/1234\n",
        "!sed -i 's/execute_process(COMMAND git checkout --recursive master WORKING_DIRECTORY ${CMAKE_SOURCE_DIR}\\/3rdparty\\/caffe)/execute_process(COMMAND git checkout f019d0dfe86f49d1140961f8c7dec22130c83154 WORKING_DIRECTORY ${CMAKE_SOURCE_DIR}\\/3rdparty\\/caffe)/g' openpose/CMakeLists.txt\n",
        "!cd openpose && git submodule update --init --recursive --remote\n",
        "\n",
        "! wget --load-cookies /tmp/cookies.txt \"https://docs.google.com/uc?export=download&confirm=$(wget --quiet --save-cookies /tmp/cookies.txt --keep-session-cookies --no-check-certificate 'https://docs.google.com/uc?export=download&id=1QCSxJZpnWvM00hx49CJ2zky7PWGzpcEh' -O- | sed -rn 's/.*confirm=([0-9A-Za-z_]+).*/\\1\\n/p')&id=1QCSxJZpnWvM00hx49CJ2zky7PWGzpcEh\" -O models.zip && rm -rf /tmp/cookies.txt\n",
        "\n",
        "#@title\n",
        "# Workaround for server connection problem (\"file DOWNLOAD HASH mismatch\"),see, e.g.,\n",
        "# https://github.com/CMU-Perceptual-Computing-Lab/openpose/issues/1602#issuecomment-641653411\n",
        "!apt-get install unzip\n",
        "\n",
        "# !wget -O models.zip  --no-check-certificate -r 'https://drive.google.com/uc?id=1QCSxJZpnWvM00hx49CJ2zky7PWGzpcEh&export=download'\n",
        "!unzip -o models.zip -d openpose\n",
        "\n",
        "# use 'sed' to comment out the line in the OpenPose repo that downloads the model from the failed link\n",
        "! sed -i 's/executeShInItsFolder \"getModels.sh\"/# executeShInItsFolder \"getModels.sh\"/g' ./openpose/scripts/ubuntu/install_openpose_JetsonTX2_JetPack3.1.sh\n",
        "! sed -i 's/executeShInItsFolder \"getModels.sh\"/# executeShInItsFolder \"getModels.sh\"/g' ./openpose/scripts/ubuntu/install_openpose_JetsonTX2_JetPack3.3.sh\n",
        "! sed -i 's/download_model(\"BODY_25\"/# download_model(\"BODY_25\"/g' ./openpose/CMakeLists.txt\n",
        "! sed -i 's/78287B57CF85FA89C03F1393D368E5B7/# 78287B57CF85FA89C03F1393D368E5B7/g' ./openpose/CMakeLists.txt\n",
        "! sed -i 's/download_model(\"body (COCO)\"/# download_model(\"body (COCO)\"/g' ./openpose/CMakeLists.txt\n",
        "! sed -i 's/5156d31f670511fce9b4e28b403f2939/# 5156d31f670511fce9b4e28b403f2939/g' ./openpose/CMakeLists.txt\n",
        "! sed -i 's/download_model(\"body (MPI)\"/# download_model(\"body (MPI)\"/g' ./openpose/CMakeLists.txt\n",
        "! sed -i 's/2ca0990c7562bd7ae03f3f54afa96e00/# 2ca0990c7562bd7ae03f3f54afa96e00/g' ./openpose/CMakeLists.txt\n",
        "! sed -i 's/download_model(\"face\"/# download_model(\"face\"/g' ./openpose/CMakeLists.txt\n",
        "! sed -i 's/e747180d728fa4e4418c465828384333/# e747180d728fa4e4418c465828384333/g' ./openpose/CMakeLists.txt\n",
        "! sed -i 's/download_model(\"hand\"/# download_model(\"hand\"/g' ./openpose/CMakeLists.txt\n",
        "! sed -i 's/a82cfc3fea7c62f159e11bd3674c1531/# a82cfc3fea7c62f159e11bd3674c1531/g' ./openpose/CMakeLists.txt\n",
        "\n",
        "! ls -lha /usr/lib/x86_64-linux-gnu\n",
        "\n",
        "!cd openpose && rm -rf build || true && mkdir build\n",
        "\n",
        "cmake_file='/content/openpose/CMakeLists.txt'\n",
        "!cd openpose && sed -i 's/-DBUILD_python=OFF/-DBUILD_python=ON/g' $cmake_file\n",
        "!cd openpose && sed -i 's/-DBUILD_python_layer=OFF/-DBUILD_python_layer=ON/g' $cmake_file\n",
        "\n",
        "!cd openpose && sed -i 's/option(BUILD_PYTHON \"Build OpenPose python.\" OFF)/option(BUILD_PYTHON \"OpenPose python.\" ON)\\noption(BUILD_BIN_FOLDER \"Copy 3rd-party DLL files.\" ON)/g' $cmake_file\n",
        "\n",
        "# CUDA\n",
        "!cd openpose && cd build && cmake .. -DUSE_CUDNN=OFF -DGENERATE_PYTHON_BINDINGS:BOOL=\"1\" -DPYTHON_LIBRARY='/usr/lib/x86_64-linux-gnu/libpython3.10.so' && make -j`nproc`\n",
        "\n"
      ]
    },
    {
      "cell_type": "code",
      "execution_count": null,
      "metadata": {
        "id": "Y7ocH9RDR_vo"
      },
      "outputs": [],
      "source": [
        "# MOVING FORWARD YOU CAN RUN THIS BOX AND THE NEXY BOX FOR ANY NUMBER OF VIDEOS YOU WANT each vidoe should take\n",
        "#approx 20-60 sec to procress. just change the names below to anaylze videos of different names and create different outputs.\n",
        "\n",
        "# IMPORTANT HERE YOU WILL CHANGE this to the name of your file (note your file should be .mp4)\n",
        "# below is just an example my file is named ExampleVideo\n",
        "NameInputFile = 'IMG_5111'\n",
        "# IMPORTANT HERE YOU WILL CHANGE this to the name of your output file (note your file should be .mp4)\n",
        "# below is just an example my file output name is named ExampleVideo_OUTPUT\n",
        "NameOutputFile = 'Will_45'\n",
        "\n",
        "## REMEBER to save your output files after you run to get the data onto your computer :)\n",
        "# NOTE if you get an empty csv file as an output then check if you named your video correctly, that it is a mp4 file.\n",
        "\n",
        "keypoint_names = ['Nose','Neck','RShoulder','RElbow','RWrist','LShoulder','LElbow','LWrist','MidHip','RHip','RKnee','RAnkle','LHip','LKnee','LAnkle','REye','LEye','REar','LEar','LBigToe','LSmallToe','LHeel','RBigToe','RSmallToe','RHeel']\n",
        "\n",
        "!cd $OPENPOSE_PATH && rm ../openpose.avi\n",
        "!cd $OPENPOSE_PATH && chmod -R 755 './build/'\n",
        "!cd $OPENPOSE_PATH && ./build/examples/openpose/openpose.bin --video ../{NameInputFile+'.mp4'} --write_json ./output/ --display 0 --number_people_max 1  --write_video ../openpose.avi\n",
        "# convert the result into MP4\n",
        "!ffmpeg -y -loglevel info -i openpose.avi {NameOutputFile+'.mp4'}\n",
        "\n",
        "import os\n",
        "import json\n",
        "import csv\n",
        "\n",
        "input_dir = '/content/openpose/output'\n",
        "output_file= '/content/' + NameOutputFile +'.csv'\n",
        "\n",
        "# Open the output CSV file for writing\n",
        "with open(output_file, 'w', newline='') as csvfile:\n",
        "  writer = csv.writer(csvfile)\n",
        "\n",
        "  # Write the header row to the CSV file\n",
        "  header = ['Frame']\n",
        "  for name in keypoint_names:\n",
        "      for suffix in ['_x', '_y', '_conf']:\n",
        "          header.append(name + suffix)\n",
        "  writer.writerow(header)\n",
        "\n",
        "  try:\n",
        "      # Iterate over all JSON files in the input directory\n",
        "      for filename in sorted(os.listdir(input_dir)):\n",
        "          filepath = os.path.join(input_dir, filename)\n",
        "\n",
        "          # Skip non-JSON files\n",
        "          if not filename.endswith('.json'):\n",
        "              continue\n",
        "\n",
        "          print('Processing file {}'.format(filename))\n",
        "\n",
        "          # Load the JSON data from the file\n",
        "          with open(filepath, 'r') as f:\n",
        "              data = json.load(f)\n",
        "\n",
        "          # Skip files with no pose keypoints\n",
        "          if len(data['people']) == 0:\n",
        "              print('File {} does not contain any keypoints'.format(filename))\n",
        "              continue\n",
        "\n",
        "          # Extract the pose keypoints from the JSON data\n",
        "          keypoints = data['people'][0]['pose_keypoints_2d']\n",
        "          if keypoints is None:\n",
        "              print('File {} does not contain any keypoints'.format(filename))\n",
        "              continue\n",
        "\n",
        "          # Write the keypoints to the CSV file\n",
        "          row = [filename]\n",
        "          for i in range(len(keypoint_names)):\n",
        "              x = keypoints[i*3]\n",
        "              y = keypoints[i*3 + 1]\n",
        "              conf = keypoints[i*3 + 2]\n",
        "              row.extend([x, y, conf])\n",
        "          writer.writerow(row)\n",
        "\n",
        "  except FileNotFoundError:\n",
        "      print(f\"Directory {input_dir} does not exist. Skipping...\")\n",
        "\n",
        "\n"
      ]
    },
    {
      "cell_type": "markdown",
      "metadata": {
        "id": "kRl_tYFZSDSv"
      },
      "source": [
        "You can  visualize the result:"
      ]
    },
    {
      "cell_type": "code",
      "execution_count": null,
      "metadata": {
        "id": "8FrnHD_4SC9Y"
      },
      "outputs": [],
      "source": [
        "def show_local_mp4_video(file_name, width=640, height=480):\n",
        "  import io\n",
        "  import base64\n",
        "  from IPython.display import HTML\n",
        "  video_encoded = base64.b64encode(io.open(file_name, 'rb').read())\n",
        "  return HTML(data='''<video width=\"{0}\" height=\"{1}\" alt=\"test\" controls>\n",
        "                        <source src=\"data:video/mp4;base64,{2}\" type=\"video/mp4\" />\n",
        "                      </video>'''.format(width, height, video_encoded.decode('ascii')))\n",
        "\n",
        "show_local_mp4_video(NameOutputFile+'.mp4', width=960, height=720)"
      ]
    },
    {
      "cell_type": "markdown",
      "source": [
        "# New Section"
      ],
      "metadata": {
        "id": "OnjRIrfr1pTM"
      }
    }
  ],
  "metadata": {
    "accelerator": "GPU",
    "colab": {
      "provenance": [],
      "gpuType": "T4",
      "include_colab_link": true
    },
    "kernelspec": {
      "display_name": "Python 3",
      "name": "python3"
    },
    "language_info": {
      "codemirror_mode": {
        "name": "ipython",
        "version": 3
      },
      "file_extension": ".py",
      "mimetype": "text/x-python",
      "name": "python",
      "nbconvert_exporter": "python",
      "pygments_lexer": "ipython3",
      "version": "3.8.9 (default, Oct 26 2021, 07:25:53) \n[Clang 13.0.0 (clang-1300.0.29.30)]"
    },
    "vscode": {
      "interpreter": {
        "hash": "31f2aee4e71d21fbe5cf8b01ff0e069b9275f58929596ceb00d14d90e3e16cd6"
      }
    }
  },
  "nbformat": 4,
  "nbformat_minor": 0
}